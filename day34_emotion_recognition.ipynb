{
 "cells": [
  {
   "cell_type": "code",
   "execution_count": 3,
   "id": "69086575-595d-41ef-b1af-f751401e3e62",
   "metadata": {},
   "outputs": [
    {
     "name": "stdout",
     "output_type": "stream",
     "text": [
      "Requirement already satisfied: SpeechRecognition in c:\\users\\boss\\anaconda3\\lib\\site-packages (3.8.1)\n"
     ]
    }
   ],
   "source": [
    "!pip install SpeechRecognition"
   ]
  },
  {
   "cell_type": "code",
   "execution_count": 4,
   "id": "704f0882-5258-4129-bf7c-c72f3b782652",
   "metadata": {},
   "outputs": [
    {
     "name": "stdout",
     "output_type": "stream",
     "text": [
      "Requirement already satisfied: pyttsx3 in c:\\users\\boss\\anaconda3\\lib\\site-packages (2.90)\n",
      "Requirement already satisfied: pywin32 in c:\\users\\boss\\anaconda3\\lib\\site-packages (from pyttsx3) (227)\n",
      "Requirement already satisfied: comtypes in c:\\users\\boss\\anaconda3\\lib\\site-packages (from pyttsx3) (1.1.9)\n",
      "Requirement already satisfied: pypiwin32 in c:\\users\\boss\\anaconda3\\lib\\site-packages (from pyttsx3) (223)\n"
     ]
    }
   ],
   "source": [
    "!pip install pyttsx3"
   ]
  },
  {
   "cell_type": "code",
   "execution_count": 5,
   "id": "d2b8d46d-1dc5-4ad8-bebc-f14eb1d221a5",
   "metadata": {},
   "outputs": [],
   "source": [
    "import pyttsx3"
   ]
  },
  {
   "cell_type": "code",
   "execution_count": 6,
   "id": "fc3bce79-07cc-4516-84c5-05e9ef57acf7",
   "metadata": {},
   "outputs": [],
   "source": [
    "speng = pyttsx3.init()"
   ]
  },
  {
   "cell_type": "code",
   "execution_count": 7,
   "id": "10f6fade-a585-4232-a5e2-3c85a3ada084",
   "metadata": {},
   "outputs": [],
   "source": [
    "speng.setProperty('rate',120)"
   ]
  },
  {
   "cell_type": "code",
   "execution_count": 8,
   "id": "73d3d4c7-d2a6-4022-9015-619b0857015b",
   "metadata": {},
   "outputs": [],
   "source": [
    "speng.say('hello I am speaking')\n",
    "speng.runAndWait()"
   ]
  },
  {
   "cell_type": "code",
   "execution_count": 9,
   "id": "a9349227-08d5-4ab6-a29c-78b58d678ded",
   "metadata": {},
   "outputs": [],
   "source": [
    "import speech_recognition as sr"
   ]
  },
  {
   "cell_type": "code",
   "execution_count": 10,
   "id": "81637a53-75b9-46b5-b253-3bd4eee816ba",
   "metadata": {},
   "outputs": [],
   "source": [
    "r = sr.Recognizer()"
   ]
  },
  {
   "cell_type": "code",
   "execution_count": 13,
   "id": "2fd28b29-2da1-4bbe-ad7d-0f8fb948564d",
   "metadata": {},
   "outputs": [
    {
     "name": "stdout",
     "output_type": "stream",
     "text": [
      "Collecting wheelfile\n",
      "  Downloading wheelfile-0.0.8-py3-none-any.whl (24 kB)\n",
      "Requirement already satisfied: packaging~=20.8 in c:\\users\\boss\\anaconda3\\lib\\site-packages (from wheelfile) (20.9)\n",
      "Requirement already satisfied: pyparsing>=2.0.2 in c:\\users\\boss\\anaconda3\\lib\\site-packages (from packaging~=20.8->wheelfile) (2.4.7)\n",
      "Installing collected packages: wheelfile\n",
      "Successfully installed wheelfile-0.0.8\n"
     ]
    }
   ],
   "source": [
    "!pip install wheelfile"
   ]
  },
  {
   "cell_type": "code",
   "execution_count": null,
   "id": "2a0e2dd5-c68c-4bfe-8275-c8eae916b1fb",
   "metadata": {},
   "outputs": [],
   "source": [
    "!pip install PyAudio-0.2.11.tar.gz"
   ]
  },
  {
   "cell_type": "code",
   "execution_count": 12,
   "id": "dcbbc67f-ab4d-4d4c-bab9-1b8f443e1f35",
   "metadata": {},
   "outputs": [
    {
     "ename": "AttributeError",
     "evalue": "Could not find PyAudio; check installation",
     "output_type": "error",
     "traceback": [
      "\u001b[1;31m---------------------------------------------------------------------------\u001b[0m",
      "\u001b[1;31mModuleNotFoundError\u001b[0m                       Traceback (most recent call last)",
      "\u001b[1;32m~\\anaconda3\\lib\\site-packages\\speech_recognition\\__init__.py\u001b[0m in \u001b[0;36mget_pyaudio\u001b[1;34m()\u001b[0m\n\u001b[0;32m    107\u001b[0m         \u001b[1;32mtry\u001b[0m\u001b[1;33m:\u001b[0m\u001b[1;33m\u001b[0m\u001b[1;33m\u001b[0m\u001b[0m\n\u001b[1;32m--> 108\u001b[1;33m             \u001b[1;32mimport\u001b[0m \u001b[0mpyaudio\u001b[0m\u001b[1;33m\u001b[0m\u001b[1;33m\u001b[0m\u001b[0m\n\u001b[0m\u001b[0;32m    109\u001b[0m         \u001b[1;32mexcept\u001b[0m \u001b[0mImportError\u001b[0m\u001b[1;33m:\u001b[0m\u001b[1;33m\u001b[0m\u001b[1;33m\u001b[0m\u001b[0m\n",
      "\u001b[1;31mModuleNotFoundError\u001b[0m: No module named 'pyaudio'",
      "\nDuring handling of the above exception, another exception occurred:\n",
      "\u001b[1;31mAttributeError\u001b[0m                            Traceback (most recent call last)",
      "\u001b[1;32m<ipython-input-12-0eb9efe59722>\u001b[0m in \u001b[0;36m<module>\u001b[1;34m\u001b[0m\n\u001b[0;32m      1\u001b[0m \u001b[1;32mwhile\u001b[0m \u001b[1;32mTrue\u001b[0m\u001b[1;33m:\u001b[0m\u001b[1;33m\u001b[0m\u001b[1;33m\u001b[0m\u001b[0m\n\u001b[1;32m----> 2\u001b[1;33m     \u001b[1;32mwith\u001b[0m \u001b[0msr\u001b[0m\u001b[1;33m.\u001b[0m\u001b[0mMicrophone\u001b[0m\u001b[1;33m(\u001b[0m\u001b[1;33m)\u001b[0m \u001b[1;32mas\u001b[0m \u001b[0msource\u001b[0m\u001b[1;33m:\u001b[0m\u001b[1;33m\u001b[0m\u001b[1;33m\u001b[0m\u001b[0m\n\u001b[0m\u001b[0;32m      3\u001b[0m         \u001b[0mr\u001b[0m\u001b[1;33m.\u001b[0m\u001b[0madjust_for_ambient_noise\u001b[0m\u001b[1;33m(\u001b[0m\u001b[0msource\u001b[0m\u001b[1;33m)\u001b[0m\u001b[1;33m\u001b[0m\u001b[1;33m\u001b[0m\u001b[0m\n\u001b[0;32m      4\u001b[0m         \u001b[0maudio\u001b[0m \u001b[1;33m=\u001b[0m \u001b[0mr\u001b[0m\u001b[1;33m.\u001b[0m\u001b[0mlisten\u001b[0m\u001b[1;33m(\u001b[0m\u001b[0msource\u001b[0m\u001b[1;33m)\u001b[0m\u001b[1;33m\u001b[0m\u001b[1;33m\u001b[0m\u001b[0m\n\u001b[0;32m      5\u001b[0m         \u001b[1;32mtry\u001b[0m\u001b[1;33m:\u001b[0m\u001b[1;33m\u001b[0m\u001b[1;33m\u001b[0m\u001b[0m\n",
      "\u001b[1;32m~\\anaconda3\\lib\\site-packages\\speech_recognition\\__init__.py\u001b[0m in \u001b[0;36m__init__\u001b[1;34m(self, device_index, sample_rate, chunk_size)\u001b[0m\n\u001b[0;32m     77\u001b[0m \u001b[1;33m\u001b[0m\u001b[0m\n\u001b[0;32m     78\u001b[0m         \u001b[1;31m# set up PyAudio\u001b[0m\u001b[1;33m\u001b[0m\u001b[1;33m\u001b[0m\u001b[1;33m\u001b[0m\u001b[0m\n\u001b[1;32m---> 79\u001b[1;33m         \u001b[0mself\u001b[0m\u001b[1;33m.\u001b[0m\u001b[0mpyaudio_module\u001b[0m \u001b[1;33m=\u001b[0m \u001b[0mself\u001b[0m\u001b[1;33m.\u001b[0m\u001b[0mget_pyaudio\u001b[0m\u001b[1;33m(\u001b[0m\u001b[1;33m)\u001b[0m\u001b[1;33m\u001b[0m\u001b[1;33m\u001b[0m\u001b[0m\n\u001b[0m\u001b[0;32m     80\u001b[0m         \u001b[0maudio\u001b[0m \u001b[1;33m=\u001b[0m \u001b[0mself\u001b[0m\u001b[1;33m.\u001b[0m\u001b[0mpyaudio_module\u001b[0m\u001b[1;33m.\u001b[0m\u001b[0mPyAudio\u001b[0m\u001b[1;33m(\u001b[0m\u001b[1;33m)\u001b[0m\u001b[1;33m\u001b[0m\u001b[1;33m\u001b[0m\u001b[0m\n\u001b[0;32m     81\u001b[0m         \u001b[1;32mtry\u001b[0m\u001b[1;33m:\u001b[0m\u001b[1;33m\u001b[0m\u001b[1;33m\u001b[0m\u001b[0m\n",
      "\u001b[1;32m~\\anaconda3\\lib\\site-packages\\speech_recognition\\__init__.py\u001b[0m in \u001b[0;36mget_pyaudio\u001b[1;34m()\u001b[0m\n\u001b[0;32m    108\u001b[0m             \u001b[1;32mimport\u001b[0m \u001b[0mpyaudio\u001b[0m\u001b[1;33m\u001b[0m\u001b[1;33m\u001b[0m\u001b[0m\n\u001b[0;32m    109\u001b[0m         \u001b[1;32mexcept\u001b[0m \u001b[0mImportError\u001b[0m\u001b[1;33m:\u001b[0m\u001b[1;33m\u001b[0m\u001b[1;33m\u001b[0m\u001b[0m\n\u001b[1;32m--> 110\u001b[1;33m             \u001b[1;32mraise\u001b[0m \u001b[0mAttributeError\u001b[0m\u001b[1;33m(\u001b[0m\u001b[1;34m\"Could not find PyAudio; check installation\"\u001b[0m\u001b[1;33m)\u001b[0m\u001b[1;33m\u001b[0m\u001b[1;33m\u001b[0m\u001b[0m\n\u001b[0m\u001b[0;32m    111\u001b[0m         \u001b[1;32mfrom\u001b[0m \u001b[0mdistutils\u001b[0m\u001b[1;33m.\u001b[0m\u001b[0mversion\u001b[0m \u001b[1;32mimport\u001b[0m \u001b[0mLooseVersion\u001b[0m\u001b[1;33m\u001b[0m\u001b[1;33m\u001b[0m\u001b[0m\n\u001b[0;32m    112\u001b[0m         \u001b[1;32mif\u001b[0m \u001b[0mLooseVersion\u001b[0m\u001b[1;33m(\u001b[0m\u001b[0mpyaudio\u001b[0m\u001b[1;33m.\u001b[0m\u001b[0m__version__\u001b[0m\u001b[1;33m)\u001b[0m \u001b[1;33m<\u001b[0m \u001b[0mLooseVersion\u001b[0m\u001b[1;33m(\u001b[0m\u001b[1;34m\"0.2.11\"\u001b[0m\u001b[1;33m)\u001b[0m\u001b[1;33m:\u001b[0m\u001b[1;33m\u001b[0m\u001b[1;33m\u001b[0m\u001b[0m\n",
      "\u001b[1;31mAttributeError\u001b[0m: Could not find PyAudio; check installation"
     ]
    }
   ],
   "source": [
    "while True:\n",
    "    with sr.Microphone() as source:\n",
    "        r.adjust_for_ambient_noise(source)\n",
    "        audio = r.listen(source)\n",
    "        try:\n",
    "            que = r.recognize_google(audio)\n",
    "            if que == 'exit':\n",
    "                break            \n",
    "            print('you said:',que)\n",
    "            resp = cb.respond(que)\n",
    "            if resp is 03-01-01-01-02-01-01.wav/03-01-01-01-02-01-03.wav/03-01-01-01-02-01-05.wav/03-01-01-01-02-01-07.wav/03-01-01-01-02-01-09.wav/03-01-01-01-02-01-11.wav :\n",
    "                print('Bot:',this is voice of man of normal tone)\n",
    "                speng.say(resp)\n",
    "                speng.runAndWait()\n",
    "            else if resp is 03-01-01-01-02-01-02.wav/03-01-01-01-02-01-04.wav/03-01-01-01-02-01-06.wav/03-01-01-01-02-01-08.wav/03-01-01-01-02-01-10.wav/03-01-01-01-02-01-12.wav : \n",
    "                print('Bot:',this is voice of woman of normal tone)\n",
    "                speng.say(resp)\n",
    "                speng.runAndWait()\n",
    "            else if resp is 03-01-02-01-02-01-01.wav/03-01-02-01-02-01-03.wav/03-01-02-01-02-01-05.wav/03-01-02-01-02-01-07.wav/03-01-02-01-02-01-09.wav/03-01-02-01-02-01-11.wav :     \n",
    "                print('Bot:',this is voice of man of calm tone)\n",
    "                speng.say(resp)\n",
    "                speng.runAndWait()\n",
    "            else if resp is 03-01-02-01-02-01-02.wav/03-01-02-01-02-01-04.wav/03-01-02-01-02-01-06.wav/03-01-02-01-02-01-08.wav/03-01-02-01-02-01-10.wav/03-01-02-01-02-01-12.wav : \n",
    "                print('Bot:',this is voice of woman of calm tone)\n",
    "                speng.say(resp)\n",
    "                speng.runAndWait()\n",
    "            else if resp is 03-01-03-01-02-01-01.wav/03-01-03-01-02-01-03.wav/03-01-03-01-02-01-05.wav/03-01-03-01-02-01-07.wav/03-01-03-01-02-01-09.wav/03-01-03-01-02-01-11.wav :     \n",
    "                print('Bot:',this is voice of man of happy tone)\n",
    "                speng.say(resp)\n",
    "                speng.runAndWait()\n",
    "            else if resp is 03-01-03-01-02-01-02.wav/03-01-03-01-02-01-04.wav/03-01-03-01-02-01-06.wav/03-01-03-01-02-01-08.wav/03-01-03-01-02-01-10.wav/03-01-03-01-02-01-12.wav : \n",
    "                print('Bot:',this is voice of woman of happy tone)\n",
    "                speng.say(resp)\n",
    "                speng.runAndWait()\n",
    "            else if resp is 03-01-04-01-02-01-01.wav/03-01-04-01-02-01-03.wav/03-01-04-01-02-01-05.wav/03-01-04-01-02-01-07.wav/03-01-04-01-02-01-09.wav/03-01-04-01-02-01-11.wav :     \n",
    "                print('Bot:',this is voice of man of sad tone)\n",
    "                speng.say(resp)\n",
    "                speng.runAndWait()\n",
    "            else if resp is 03-01-04-01-02-01-02.wav/03-01-04-01-02-01-04.wav/03-01-04-01-02-01-06.wav/03-01-04-01-02-01-08.wav/03-01-04-01-02-01-10.wav/03-01-04-01-02-01-12.wav : \n",
    "                print('Bot:',this is voice of woman of sad tone)\n",
    "                speng.say(resp)\n",
    "                speng.runAndWait()\n",
    "            else if resp is 03-01-05-01-02-01-01.wav/03-01-05-01-02-01-03.wav/03-01-05-01-02-01-05.wav/03-01-05-01-02-01-07.wav/03-01-05-01-02-01-09.wav/03-01-05-01-02-01-11.wav :     \n",
    "                print('Bot:',this is voice of man of angry tone)\n",
    "                speng.say(resp)\n",
    "                speng.runAndWait()\n",
    "            else if resp is 03-01-05-01-02-01-02.wav/03-01-05-01-02-01-04.wav/03-01-05-01-02-01-06.wav/03-01-05-01-02-01-08.wav/03-01-05-01-02-01-10.wav/03-01-05-01-02-01-12.wav : \n",
    "                print('Bot:',this is voice of woman of angry tone)\n",
    "                speng.say(resp)\n",
    "                speng.runAndWait()\n",
    "            else if resp is 03-01-06-01-02-01-01.wav/03-01-06-01-02-01-03.wav/03-01-06-01-02-01-05.wav/03-01-06-01-02-01-07.wav/03-01-06-01-02-01-09.wav/03-01-06-01-02-01-11.wav :     \n",
    "                print('Bot:',this is voice of man of fearful tone)\n",
    "                speng.say(resp)\n",
    "                speng.runAndWait()\n",
    "            else if resp is 03-01-06-01-02-01-02.wav/03-01-06-01-02-01-04.wav/03-01-06-01-02-01-06.wav/03-01-06-01-02-01-08.wav/03-01-06-01-02-01-10.wav/03-01-06-01-02-01-12.wav : \n",
    "                print('Bot:',this is voice of woman of fearful tone)\n",
    "                speng.say(resp)\n",
    "                speng.runAndWait()\n",
    "            else if resp is 03-01-06-01-02-01-01.wav/03-01-06-01-02-01-03.wav/03-01-06-01-02-01-05.wav/03-01-06-01-02-01-07.wav/03-01-06-01-02-01-09.wav/03-01-06-01-02-01-11.wav :     \n",
    "                print('Bot:',this is voice of man of disgust tone)\n",
    "                speng.say(resp)\n",
    "                speng.runAndWait()\n",
    "            else if resp is 03-01-07-01-02-01-02.wav/03-01-07-01-02-01-04.wav/03-01-07-01-02-01-06.wav/03-01-07-01-02-01-08.wav/03-01-07-01-02-01-10.wav/03-01-07-01-02-01-12.wav : \n",
    "                print('Bot:',this is voice of woman of disgust tone)\n",
    "                speng.say(resp)\n",
    "                speng.runAndWait()\n",
    "            else if resp is 03-01-08-01-02-01-01.wav/03-01-08-01-02-01-03.wav/03-01-08-01-02-01-05.wav/03-01-08-01-02-01-07.wav/03-01-08-01-02-01-09.wav/03-01-08-01-02-01-11.wav :     \n",
    "                print('Bot:',this is voice of man of surprised tone)\n",
    "                speng.say(resp)\n",
    "                speng.runAndWait()\n",
    "            else if resp is 03-01-08-01-02-01-02.wav/03-01-08-01-02-01-04.wav/03-01-08-01-02-01-06.wav/03-01-08-01-02-01-08.wav/03-01-08-01-02-01-10.wav/03-01-08-01-02-01-12.wav : \n",
    "                print('Bot:',this is voice of woman of surprised tone)\n",
    "                speng.say(resp)\n",
    "                speng.runAndWait()\n",
    "            print('-'*20)\n",
    "        except Exception as e:\n",
    "            print('error')\n",
    "            print(e)"
   ]
  },
  {
   "cell_type": "code",
   "execution_count": null,
   "id": "8851ba55-8a68-4b24-86b8-2c3ba8f584ea",
   "metadata": {},
   "outputs": [],
   "source": []
  }
 ],
 "metadata": {
  "kernelspec": {
   "display_name": "Python 3",
   "language": "python",
   "name": "python3"
  },
  "language_info": {
   "codemirror_mode": {
    "name": "ipython",
    "version": 3
   },
   "file_extension": ".py",
   "mimetype": "text/x-python",
   "name": "python",
   "nbconvert_exporter": "python",
   "pygments_lexer": "ipython3",
   "version": "3.8.8"
  }
 },
 "nbformat": 4,
 "nbformat_minor": 5
}
