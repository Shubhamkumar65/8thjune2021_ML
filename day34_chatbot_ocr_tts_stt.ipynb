{
 "cells": [
  {
   "cell_type": "code",
   "execution_count": null,
   "id": "fc516bb0-77fa-4d0c-b1f5-d31a7f4ce619",
   "metadata": {},
   "outputs": [],
   "source": [
    "import nltk"
   ]
  },
  {
   "cell_type": "code",
   "execution_count": null,
   "id": "5b5a7fb7-bcc2-44f4-acfd-1091b6a9c227",
   "metadata": {},
   "outputs": [],
   "source": [
    "nltk.download()"
   ]
  },
  {
   "cell_type": "code",
   "execution_count": 3,
   "id": "4bae02ea-956b-47a2-97fb-a4c760b09928",
   "metadata": {},
   "outputs": [],
   "source": [
    "from nltk.chat.util import Chat, reflections"
   ]
  },
  {
   "cell_type": "code",
   "execution_count": 4,
   "id": "1a9600d1-21b1-47b5-9864-f76645458b08",
   "metadata": {},
   "outputs": [
    {
     "data": {
      "text/plain": [
       "{'i am': 'you are',\n",
       " 'i was': 'you were',\n",
       " 'i': 'you',\n",
       " \"i'm\": 'you are',\n",
       " \"i'd\": 'you would',\n",
       " \"i've\": 'you have',\n",
       " \"i'll\": 'you will',\n",
       " 'my': 'your',\n",
       " 'you are': 'I am',\n",
       " 'you were': 'I was',\n",
       " \"you've\": 'I have',\n",
       " \"you'll\": 'I will',\n",
       " 'your': 'my',\n",
       " 'yours': 'mine',\n",
       " 'you': 'me',\n",
       " 'me': 'you'}"
      ]
     },
     "execution_count": 4,
     "metadata": {},
     "output_type": "execute_result"
    }
   ],
   "source": [
    "reflections"
   ]
  },
  {
   "cell_type": "code",
   "execution_count": 5,
   "id": "6eb092cb-75de-42ae-83ef-3abe3a2af740",
   "metadata": {},
   "outputs": [],
   "source": [
    "pairs = (\n",
    "    (r'i like (.*)', \n",
    "        (\n",
    "            'Surely, you can like %1',\n",
    "            'why, do you like %1?'\n",
    "        )\n",
    "    ),\n",
    "    (r'will you please (.*)', \n",
    "        (\n",
    "            'yeah, sure',\n",
    "            'no, i can not do this'\n",
    "        )\n",
    "    ),\n",
    "    (r'(.*)python(.*)',\n",
    "         (\n",
    "             'python is an interpreted language',\n",
    "             'python is 4th generation language',\n",
    "             'python is language of today and tomorrow'             \n",
    "         )    \n",
    "    )\n",
    ")"
   ]
  },
  {
   "cell_type": "code",
   "execution_count": 6,
   "id": "20eda9a1-54f2-44a6-a3ec-3904d6db3756",
   "metadata": {},
   "outputs": [],
   "source": [
    "cb = Chat(pairs, reflections)"
   ]
  },
  {
   "cell_type": "code",
   "execution_count": 7,
   "id": "3a3117c3-c9d7-4abd-82d9-b5493e8ed34a",
   "metadata": {},
   "outputs": [
    {
     "data": {
      "text/plain": [
       "<nltk.chat.util.Chat at 0x1e5beda6730>"
      ]
     },
     "execution_count": 7,
     "metadata": {},
     "output_type": "execute_result"
    }
   ],
   "source": [
    "cb"
   ]
  },
  {
   "cell_type": "code",
   "execution_count": 8,
   "id": "55c40871-248b-4af2-bebd-44f8d656031c",
   "metadata": {},
   "outputs": [
    {
     "name": "stdin",
     "output_type": "stream",
     "text": [
      "> what is python?\n"
     ]
    },
    {
     "name": "stdout",
     "output_type": "stream",
     "text": [
      "python is an interpreted language\n"
     ]
    },
    {
     "name": "stdin",
     "output_type": "stream",
     "text": [
      "> what is python .?\n"
     ]
    },
    {
     "name": "stdout",
     "output_type": "stream",
     "text": [
      "python is an interpreted language\n"
     ]
    },
    {
     "name": "stdin",
     "output_type": "stream",
     "text": [
      "> more about python\n"
     ]
    },
    {
     "name": "stdout",
     "output_type": "stream",
     "text": [
      "python is an interpreted language\n"
     ]
    },
    {
     "name": "stderr",
     "output_type": "stream",
     "text": [
      "\n",
      "KeyboardInterrupt\n",
      "\n"
     ]
    }
   ],
   "source": [
    "cb.converse()"
   ]
  },
  {
   "cell_type": "code",
   "execution_count": 9,
   "id": "acd62f0b-c291-43b6-a6cb-0fadbcd73620",
   "metadata": {},
   "outputs": [
    {
     "data": {
      "text/plain": [
       "'python is language of today and tomorrow'"
      ]
     },
     "execution_count": 9,
     "metadata": {},
     "output_type": "execute_result"
    }
   ],
   "source": [
    "cb.respond('tell me about python')"
   ]
  },
  {
   "cell_type": "code",
   "execution_count": 10,
   "id": "a1e0a437-3410-4dd0-bef9-b01117512f46",
   "metadata": {},
   "outputs": [],
   "source": [
    "qu = 'can python be used for machine learning'"
   ]
  },
  {
   "cell_type": "code",
   "execution_count": 11,
   "id": "7befcebb-7f09-4e90-87c8-492242b99ae0",
   "metadata": {},
   "outputs": [],
   "source": [
    "resp = cb.respond(qu)"
   ]
  },
  {
   "cell_type": "code",
   "execution_count": 12,
   "id": "cbb81cb7-94e3-4725-bd33-7acaf9c9bfa9",
   "metadata": {},
   "outputs": [
    {
     "data": {
      "text/plain": [
       "'python is language of today and tomorrow'"
      ]
     },
     "execution_count": 12,
     "metadata": {},
     "output_type": "execute_result"
    }
   ],
   "source": [
    "resp"
   ]
  },
  {
   "cell_type": "code",
   "execution_count": null,
   "id": "481d1fcf-13f2-43c8-8247-1714db1778c6",
   "metadata": {},
   "outputs": [],
   "source": [
    "!pip install pyttsx3"
   ]
  },
  {
   "cell_type": "code",
   "execution_count": 6,
   "id": "6174776a-5061-46f9-b0f3-a8f56f13b068",
   "metadata": {},
   "outputs": [
    {
     "name": "stdout",
     "output_type": "stream",
     "text": [
      "Requirement already satisfied: SpeechRecognition in c:\\users\\boss\\anaconda3\\lib\\site-packages (3.8.1)\n"
     ]
    }
   ],
   "source": [
    "!pip install SpeechRecognition"
   ]
  },
  {
   "cell_type": "code",
   "execution_count": 7,
   "id": "15e899dd-8655-4094-8b67-5c883f2e368a",
   "metadata": {},
   "outputs": [],
   "source": [
    "import pyttsx3"
   ]
  },
  {
   "cell_type": "code",
   "execution_count": 9,
   "id": "87b49b32-0e04-4df8-a387-0821e370ff71",
   "metadata": {},
   "outputs": [],
   "source": [
    "speng = pyttsx3.init()"
   ]
  },
  {
   "cell_type": "code",
   "execution_count": 10,
   "id": "9e53b26e-6b32-4e50-9c2b-b6f10598aefb",
   "metadata": {},
   "outputs": [],
   "source": [
    "speng.setProperty('rate',120)"
   ]
  },
  {
   "cell_type": "code",
   "execution_count": 12,
   "id": "c7c44caa-13df-4e9a-ace6-0ebb0611c9bc",
   "metadata": {},
   "outputs": [],
   "source": [
    "speng.say('hello I am speaking')\n",
    "speng.runAndWait()"
   ]
  },
  {
   "cell_type": "code",
   "execution_count": 13,
   "id": "12bca102-f653-47c3-abbe-d87dc45c24b3",
   "metadata": {},
   "outputs": [],
   "source": [
    "import speech_recognition as sr"
   ]
  },
  {
   "cell_type": "code",
   "execution_count": 15,
   "id": "a8b0e30a-7dab-4078-9cfb-b9cd00c53369",
   "metadata": {},
   "outputs": [],
   "source": [
    "r = sr.Recognizer()"
   ]
  },
  {
   "cell_type": "code",
   "execution_count": 16,
   "id": "f001a845-0a82-4190-8420-fedfa2367416",
   "metadata": {},
   "outputs": [],
   "source": [
    "import webbrowser as wb"
   ]
  },
  {
   "cell_type": "code",
   "execution_count": 17,
   "id": "fffeee85-278a-44dc-8b2e-a17afda57795",
   "metadata": {},
   "outputs": [
    {
     "data": {
      "text/plain": [
       "True"
      ]
     },
     "execution_count": 17,
     "metadata": {},
     "output_type": "execute_result"
    }
   ],
   "source": [
    "wb.open_new('https://google.com/search?q=chatbot')"
   ]
  },
  {
   "cell_type": "code",
   "execution_count": 18,
   "id": "9e6da2aa-fd50-4d59-bcce-05bc73e35d88",
   "metadata": {},
   "outputs": [],
   "source": [
    "qq = 'i want to purchase mobile'"
   ]
  },
  {
   "cell_type": "code",
   "execution_count": 19,
   "id": "afd26b79-9bf8-4c7e-b1ae-24295928f471",
   "metadata": {},
   "outputs": [
    {
     "data": {
      "text/plain": [
       "'mobile'"
      ]
     },
     "execution_count": 19,
     "metadata": {},
     "output_type": "execute_result"
    }
   ],
   "source": [
    "qq.split('purchase')[-1].strip()"
   ]
  },
  {
   "cell_type": "code",
   "execution_count": 1,
   "id": "15c065e4-b118-4747-a85c-e9ef1a4ee3d0",
   "metadata": {},
   "outputs": [
    {
     "name": "stdout",
     "output_type": "stream",
     "text": [
      "Requirement already satisfied: wheelfile in c:\\users\\boss\\anaconda3\\lib\\site-packages (0.0.8)\n",
      "Requirement already satisfied: packaging~=20.8 in c:\\users\\boss\\anaconda3\\lib\\site-packages (from wheelfile) (20.9)\n",
      "Requirement already satisfied: pyparsing>=2.0.2 in c:\\users\\boss\\anaconda3\\lib\\site-packages (from packaging~=20.8->wheelfile) (2.4.7)\n"
     ]
    }
   ],
   "source": [
    "!pip install wheelfile"
   ]
  },
  {
   "cell_type": "code",
   "execution_count": 3,
   "id": "c352a1af-808a-4242-aae5-c52f290395c4",
   "metadata": {},
   "outputs": [
    {
     "name": "stderr",
     "output_type": "stream",
     "text": [
      "WARNING: Requirement 'PyAudio-0.2.11.tar.gz' looks like a filename, but the file does not exist\n",
      "ERROR: Could not install packages due to an OSError: [Errno 2] No such file or directory: 'D:\\\\D\\\\day11\\\\PyAudio-0.2.11.tar.gz'\n",
      "\n"
     ]
    },
    {
     "name": "stdout",
     "output_type": "stream",
     "text": [
      "Processing d:\\d\\day11\\pyaudio-0.2.11.tar.gz\n"
     ]
    }
   ],
   "source": [
    "!pip install PyAudio-0.2.11.tar.gz"
   ]
  },
  {
   "cell_type": "code",
   "execution_count": 22,
   "id": "2e21cda6-7c76-483c-9e92-dde769d5b0e6",
   "metadata": {},
   "outputs": [
    {
     "ename": "AttributeError",
     "evalue": "Could not find PyAudio; check installation",
     "output_type": "error",
     "traceback": [
      "\u001b[1;31m---------------------------------------------------------------------------\u001b[0m",
      "\u001b[1;31mModuleNotFoundError\u001b[0m                       Traceback (most recent call last)",
      "\u001b[1;32m~\\anaconda3\\lib\\site-packages\\speech_recognition\\__init__.py\u001b[0m in \u001b[0;36mget_pyaudio\u001b[1;34m()\u001b[0m\n\u001b[0;32m    107\u001b[0m         \u001b[1;32mtry\u001b[0m\u001b[1;33m:\u001b[0m\u001b[1;33m\u001b[0m\u001b[1;33m\u001b[0m\u001b[0m\n\u001b[1;32m--> 108\u001b[1;33m             \u001b[1;32mimport\u001b[0m \u001b[0mpyaudio\u001b[0m\u001b[1;33m\u001b[0m\u001b[1;33m\u001b[0m\u001b[0m\n\u001b[0m\u001b[0;32m    109\u001b[0m         \u001b[1;32mexcept\u001b[0m \u001b[0mImportError\u001b[0m\u001b[1;33m:\u001b[0m\u001b[1;33m\u001b[0m\u001b[1;33m\u001b[0m\u001b[0m\n",
      "\u001b[1;31mModuleNotFoundError\u001b[0m: No module named 'pyaudio'",
      "\nDuring handling of the above exception, another exception occurred:\n",
      "\u001b[1;31mAttributeError\u001b[0m                            Traceback (most recent call last)",
      "\u001b[1;32m<ipython-input-22-0eb9efe59722>\u001b[0m in \u001b[0;36m<module>\u001b[1;34m\u001b[0m\n\u001b[0;32m      1\u001b[0m \u001b[1;32mwhile\u001b[0m \u001b[1;32mTrue\u001b[0m\u001b[1;33m:\u001b[0m\u001b[1;33m\u001b[0m\u001b[1;33m\u001b[0m\u001b[0m\n\u001b[1;32m----> 2\u001b[1;33m     \u001b[1;32mwith\u001b[0m \u001b[0msr\u001b[0m\u001b[1;33m.\u001b[0m\u001b[0mMicrophone\u001b[0m\u001b[1;33m(\u001b[0m\u001b[1;33m)\u001b[0m \u001b[1;32mas\u001b[0m \u001b[0msource\u001b[0m\u001b[1;33m:\u001b[0m\u001b[1;33m\u001b[0m\u001b[1;33m\u001b[0m\u001b[0m\n\u001b[0m\u001b[0;32m      3\u001b[0m         \u001b[0mr\u001b[0m\u001b[1;33m.\u001b[0m\u001b[0madjust_for_ambient_noise\u001b[0m\u001b[1;33m(\u001b[0m\u001b[0msource\u001b[0m\u001b[1;33m)\u001b[0m\u001b[1;33m\u001b[0m\u001b[1;33m\u001b[0m\u001b[0m\n\u001b[0;32m      4\u001b[0m         \u001b[0maudio\u001b[0m \u001b[1;33m=\u001b[0m \u001b[0mr\u001b[0m\u001b[1;33m.\u001b[0m\u001b[0mlisten\u001b[0m\u001b[1;33m(\u001b[0m\u001b[0msource\u001b[0m\u001b[1;33m)\u001b[0m\u001b[1;33m\u001b[0m\u001b[1;33m\u001b[0m\u001b[0m\n\u001b[0;32m      5\u001b[0m         \u001b[1;32mtry\u001b[0m\u001b[1;33m:\u001b[0m\u001b[1;33m\u001b[0m\u001b[1;33m\u001b[0m\u001b[0m\n",
      "\u001b[1;32m~\\anaconda3\\lib\\site-packages\\speech_recognition\\__init__.py\u001b[0m in \u001b[0;36m__init__\u001b[1;34m(self, device_index, sample_rate, chunk_size)\u001b[0m\n\u001b[0;32m     77\u001b[0m \u001b[1;33m\u001b[0m\u001b[0m\n\u001b[0;32m     78\u001b[0m         \u001b[1;31m# set up PyAudio\u001b[0m\u001b[1;33m\u001b[0m\u001b[1;33m\u001b[0m\u001b[1;33m\u001b[0m\u001b[0m\n\u001b[1;32m---> 79\u001b[1;33m         \u001b[0mself\u001b[0m\u001b[1;33m.\u001b[0m\u001b[0mpyaudio_module\u001b[0m \u001b[1;33m=\u001b[0m \u001b[0mself\u001b[0m\u001b[1;33m.\u001b[0m\u001b[0mget_pyaudio\u001b[0m\u001b[1;33m(\u001b[0m\u001b[1;33m)\u001b[0m\u001b[1;33m\u001b[0m\u001b[1;33m\u001b[0m\u001b[0m\n\u001b[0m\u001b[0;32m     80\u001b[0m         \u001b[0maudio\u001b[0m \u001b[1;33m=\u001b[0m \u001b[0mself\u001b[0m\u001b[1;33m.\u001b[0m\u001b[0mpyaudio_module\u001b[0m\u001b[1;33m.\u001b[0m\u001b[0mPyAudio\u001b[0m\u001b[1;33m(\u001b[0m\u001b[1;33m)\u001b[0m\u001b[1;33m\u001b[0m\u001b[1;33m\u001b[0m\u001b[0m\n\u001b[0;32m     81\u001b[0m         \u001b[1;32mtry\u001b[0m\u001b[1;33m:\u001b[0m\u001b[1;33m\u001b[0m\u001b[1;33m\u001b[0m\u001b[0m\n",
      "\u001b[1;32m~\\anaconda3\\lib\\site-packages\\speech_recognition\\__init__.py\u001b[0m in \u001b[0;36mget_pyaudio\u001b[1;34m()\u001b[0m\n\u001b[0;32m    108\u001b[0m             \u001b[1;32mimport\u001b[0m \u001b[0mpyaudio\u001b[0m\u001b[1;33m\u001b[0m\u001b[1;33m\u001b[0m\u001b[0m\n\u001b[0;32m    109\u001b[0m         \u001b[1;32mexcept\u001b[0m \u001b[0mImportError\u001b[0m\u001b[1;33m:\u001b[0m\u001b[1;33m\u001b[0m\u001b[1;33m\u001b[0m\u001b[0m\n\u001b[1;32m--> 110\u001b[1;33m             \u001b[1;32mraise\u001b[0m \u001b[0mAttributeError\u001b[0m\u001b[1;33m(\u001b[0m\u001b[1;34m\"Could not find PyAudio; check installation\"\u001b[0m\u001b[1;33m)\u001b[0m\u001b[1;33m\u001b[0m\u001b[1;33m\u001b[0m\u001b[0m\n\u001b[0m\u001b[0;32m    111\u001b[0m         \u001b[1;32mfrom\u001b[0m \u001b[0mdistutils\u001b[0m\u001b[1;33m.\u001b[0m\u001b[0mversion\u001b[0m \u001b[1;32mimport\u001b[0m \u001b[0mLooseVersion\u001b[0m\u001b[1;33m\u001b[0m\u001b[1;33m\u001b[0m\u001b[0m\n\u001b[0;32m    112\u001b[0m         \u001b[1;32mif\u001b[0m \u001b[0mLooseVersion\u001b[0m\u001b[1;33m(\u001b[0m\u001b[0mpyaudio\u001b[0m\u001b[1;33m.\u001b[0m\u001b[0m__version__\u001b[0m\u001b[1;33m)\u001b[0m \u001b[1;33m<\u001b[0m \u001b[0mLooseVersion\u001b[0m\u001b[1;33m(\u001b[0m\u001b[1;34m\"0.2.11\"\u001b[0m\u001b[1;33m)\u001b[0m\u001b[1;33m:\u001b[0m\u001b[1;33m\u001b[0m\u001b[1;33m\u001b[0m\u001b[0m\n",
      "\u001b[1;31mAttributeError\u001b[0m: Could not find PyAudio; check installation"
     ]
    }
   ],
   "source": [
    "while True:\n",
    "    with sr.Microphone() as source:\n",
    "        r.adjust_for_ambient_noise(source)\n",
    "        audio = r.listen(source)\n",
    "        try:\n",
    "            que = r.recognize_google(audio)\n",
    "            if que == 'exit':\n",
    "                break            \n",
    "            print('you said:',que)\n",
    "            resp = cb.respond(que)\n",
    "            if resp:\n",
    "                print('Bot:',resp)\n",
    "                speng.say(resp)\n",
    "                speng.runAndWait()\n",
    "            else:\n",
    "                if 'search' in que:\n",
    "                    if 'chatbot' in que:\n",
    "                        wb.open_new('https://google.com/search?q=chatbot')\n",
    "                    elif 'games' in que:\n",
    "                        wb.open_new('https://google.com/search?q=games')\n",
    "                elif 'purchase' in que:\n",
    "                    query = que.split('purchase')[-1].strip()\n",
    "                    wb.open_new('https://flipkart.com/search?q={}'.format(query))            \n",
    "            print('-'*20)\n",
    "        except Exception as e:\n",
    "            print('error')\n",
    "            print(e)"
   ]
  },
  {
   "cell_type": "code",
   "execution_count": null,
   "id": "e56c163b-3522-430d-bf4a-ef4a1126b20d",
   "metadata": {},
   "outputs": [],
   "source": [
    "!pip install pytesseract"
   ]
  },
  {
   "cell_type": "code",
   "execution_count": null,
   "id": "a333030e-a1bc-408e-8b6b-0f6efb7f4ee8",
   "metadata": {},
   "outputs": [],
   "source": [
    "path = r'C:\\Program Files\\Tesseract-OCR\\tesseract.exe'"
   ]
  },
  {
   "cell_type": "code",
   "execution_count": null,
   "id": "78eee447-8475-4c5a-be1b-93780e84dbfc",
   "metadata": {},
   "outputs": [],
   "source": [
    "import pytesseract\n",
    "from PIL import Image"
   ]
  },
  {
   "cell_type": "code",
   "execution_count": null,
   "id": "39303cae-fc0b-4b87-96e4-d56483610115",
   "metadata": {},
   "outputs": [],
   "source": [
    "pytesseract.pytesseract.tesseract_cmd = path"
   ]
  },
  {
   "cell_type": "code",
   "execution_count": null,
   "id": "86316d9f-ba2e-451b-be76-2c71f522d590",
   "metadata": {},
   "outputs": [],
   "source": [
    "img = Image.open('Capture.PNG')\n",
    "img"
   ]
  },
  {
   "cell_type": "code",
   "execution_count": null,
   "id": "02d46c9a-b230-4ca1-b3a2-21e6f9543604",
   "metadata": {},
   "outputs": [],
   "source": [
    "text = pytesseract.image_to_string(img)\n",
    "text"
   ]
  },
  {
   "cell_type": "code",
   "execution_count": null,
   "id": "2fd33d51-8ab0-4c6a-9906-fdee7e62e0b8",
   "metadata": {},
   "outputs": [],
   "source": [
    "print(text)"
   ]
  },
  {
   "cell_type": "code",
   "execution_count": null,
   "id": "4340d3c5-47a8-4f3d-a50a-d140d94f504c",
   "metadata": {},
   "outputs": [],
   "source": [
    "img2 = Image.open('Capture2.PNG')\n",
    "img2"
   ]
  },
  {
   "cell_type": "code",
   "execution_count": null,
   "id": "f1642910-cf77-4ce1-a41e-60bd33c6d563",
   "metadata": {},
   "outputs": [],
   "source": [
    "text2 = pytesseract.image_to_string(img2)\n",
    "print(text2)"
   ]
  },
  {
   "cell_type": "code",
   "execution_count": null,
   "id": "36c9214d-cacb-40d5-8d25-d228b9cf5b14",
   "metadata": {},
   "outputs": [],
   "source": [
    "Image.open('text-messages-that-will-make-her-want-you.jpg')"
   ]
  },
  {
   "cell_type": "code",
   "execution_count": null,
   "id": "3d799639-5d7a-4373-ab8c-127168763fca",
   "metadata": {},
   "outputs": [],
   "source": [
    "text3 = pytesseract.image_to_string(Image.open('text-messages-that-will-make-her-want-you.jpg'))\n",
    "print(text3)"
   ]
  },
  {
   "cell_type": "code",
   "execution_count": null,
   "id": "607fcea3-3236-4e76-aa27-3e62891ee43e",
   "metadata": {},
   "outputs": [],
   "source": []
  }
 ],
 "metadata": {
  "kernelspec": {
   "display_name": "Python 3",
   "language": "python",
   "name": "python3"
  },
  "language_info": {
   "codemirror_mode": {
    "name": "ipython",
    "version": 3
   },
   "file_extension": ".py",
   "mimetype": "text/x-python",
   "name": "python",
   "nbconvert_exporter": "python",
   "pygments_lexer": "ipython3",
   "version": "3.8.8"
  }
 },
 "nbformat": 4,
 "nbformat_minor": 5
}
