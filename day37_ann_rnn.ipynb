{
 "cells": [
  {
   "cell_type": "code",
   "execution_count": 1,
   "id": "a074c183-d7f0-4727-a83b-62d0d991478c",
   "metadata": {},
   "outputs": [],
   "source": [
    "import warnings\n",
    "warnings.filterwarnings('ignore')"
   ]
  },
  {
   "cell_type": "code",
   "execution_count": 5,
   "id": "f9c1d2f9-c8aa-4b74-809b-76da448d6ce2",
   "metadata": {},
   "outputs": [
    {
     "name": "stdout",
     "output_type": "stream",
     "text": [
      "Requirement already satisfied: keras in c:\\users\\boss\\anaconda3\\lib\\site-packages (2.6.0)\n"
     ]
    }
   ],
   "source": [
    "!pip install keras"
   ]
  },
  {
   "cell_type": "code",
   "execution_count": 8,
   "id": "7d12f0e0-684f-491e-b2c5-7cea4e01fc14",
   "metadata": {},
   "outputs": [
    {
     "name": "stdout",
     "output_type": "stream",
     "text": [
      "Collecting Pytorch"
     ]
    },
    {
     "name": "stderr",
     "output_type": "stream",
     "text": [
      "  ERROR: Command errored out with exit status 1:\n",
      "   command: 'C:\\Users\\BOSS\\anaconda3\\python.exe' -u -c 'import sys, setuptools, tokenize; sys.argv[0] = '\"'\"'C:\\\\Users\\\\BOSS\\\\AppData\\\\Local\\\\Temp\\\\pip-install-qezuln7g\\\\pytorch_98f1078e970444029a2a74a339e556d2\\\\setup.py'\"'\"'; __file__='\"'\"'C:\\\\Users\\\\BOSS\\\\AppData\\\\Local\\\\Temp\\\\pip-install-qezuln7g\\\\pytorch_98f1078e970444029a2a74a339e556d2\\\\setup.py'\"'\"';f=getattr(tokenize, '\"'\"'open'\"'\"', open)(__file__);code=f.read().replace('\"'\"'\\r\\n'\"'\"', '\"'\"'\\n'\"'\"');f.close();exec(compile(code, __file__, '\"'\"'exec'\"'\"'))' bdist_wheel -d 'C:\\Users\\BOSS\\AppData\\Local\\Temp\\pip-wheel-g8z09_as'\n",
      "       cwd: C:\\Users\\BOSS\\AppData\\Local\\Temp\\pip-install-qezuln7g\\pytorch_98f1078e970444029a2a74a339e556d2\\\n",
      "  Complete output (5 lines):\n",
      "  Traceback (most recent call last):\n",
      "    File \"<string>\", line 1, in <module>\n",
      "    File \"C:\\Users\\BOSS\\AppData\\Local\\Temp\\pip-install-qezuln7g\\pytorch_98f1078e970444029a2a74a339e556d2\\setup.py\", line 15, in <module>\n",
      "      raise Exception(message)\n",
      "  Exception: You tried to install \"pytorch\". The package named for PyTorch is \"torch\"\n",
      "  ----------------------------------------\n",
      "  ERROR: Failed building wheel for Pytorch\n",
      "    ERROR: Command errored out with exit status 1:\n",
      "     command: 'C:\\Users\\BOSS\\anaconda3\\python.exe' -u -c 'import sys, setuptools, tokenize; sys.argv[0] = '\"'\"'C:\\\\Users\\\\BOSS\\\\AppData\\\\Local\\\\Temp\\\\pip-install-qezuln7g\\\\pytorch_98f1078e970444029a2a74a339e556d2\\\\setup.py'\"'\"'; __file__='\"'\"'C:\\\\Users\\\\BOSS\\\\AppData\\\\Local\\\\Temp\\\\pip-install-qezuln7g\\\\pytorch_98f1078e970444029a2a74a339e556d2\\\\setup.py'\"'\"';f=getattr(tokenize, '\"'\"'open'\"'\"', open)(__file__);code=f.read().replace('\"'\"'\\r\\n'\"'\"', '\"'\"'\\n'\"'\"');f.close();exec(compile(code, __file__, '\"'\"'exec'\"'\"'))' install --record 'C:\\Users\\BOSS\\AppData\\Local\\Temp\\pip-record-c1w76zqh\\install-record.txt' --single-version-externally-managed --compile --install-headers 'C:\\Users\\BOSS\\anaconda3\\Include\\Pytorch'\n",
      "         cwd: C:\\Users\\BOSS\\AppData\\Local\\Temp\\pip-install-qezuln7g\\pytorch_98f1078e970444029a2a74a339e556d2\\\n",
      "    Complete output (5 lines):\n",
      "    Traceback (most recent call last):\n",
      "      File \"<string>\", line 1, in <module>\n",
      "      File \"C:\\Users\\BOSS\\AppData\\Local\\Temp\\pip-install-qezuln7g\\pytorch_98f1078e970444029a2a74a339e556d2\\setup.py\", line 11, in <module>\n",
      "        raise Exception(message)\n",
      "    Exception: You tried to install \"pytorch\". The package named for PyTorch is \"torch\"\n",
      "    ----------------------------------------\n",
      "ERROR: Command errored out with exit status 1: 'C:\\Users\\BOSS\\anaconda3\\python.exe' -u -c 'import sys, setuptools, tokenize; sys.argv[0] = '\"'\"'C:\\\\Users\\\\BOSS\\\\AppData\\\\Local\\\\Temp\\\\pip-install-qezuln7g\\\\pytorch_98f1078e970444029a2a74a339e556d2\\\\setup.py'\"'\"'; __file__='\"'\"'C:\\\\Users\\\\BOSS\\\\AppData\\\\Local\\\\Temp\\\\pip-install-qezuln7g\\\\pytorch_98f1078e970444029a2a74a339e556d2\\\\setup.py'\"'\"';f=getattr(tokenize, '\"'\"'open'\"'\"', open)(__file__);code=f.read().replace('\"'\"'\\r\\n'\"'\"', '\"'\"'\\n'\"'\"');f.close();exec(compile(code, __file__, '\"'\"'exec'\"'\"'))' install --record 'C:\\Users\\BOSS\\AppData\\Local\\Temp\\pip-record-c1w76zqh\\install-record.txt' --single-version-externally-managed --compile --install-headers 'C:\\Users\\BOSS\\anaconda3\\Include\\Pytorch' Check the logs for full command output.\n"
     ]
    },
    {
     "name": "stdout",
     "output_type": "stream",
     "text": [
      "\n",
      "  Using cached pytorch-1.0.2.tar.gz (689 bytes)\n",
      "Building wheels for collected packages: Pytorch\n",
      "  Building wheel for Pytorch (setup.py): started\n",
      "  Building wheel for Pytorch (setup.py): finished with status 'error'\n",
      "  Running setup.py clean for Pytorch\n",
      "Failed to build Pytorch\n",
      "Installing collected packages: Pytorch\n",
      "    Running setup.py install for Pytorch: started\n",
      "    Running setup.py install for Pytorch: finished with status 'error'\n"
     ]
    }
   ],
   "source": [
    "!pip install Pytorch"
   ]
  },
  {
   "cell_type": "code",
   "execution_count": 6,
   "id": "c4aa965b-b5d0-4dcc-9ca9-f588ad0fe9cd",
   "metadata": {},
   "outputs": [
    {
     "ename": "ModuleNotFoundError",
     "evalue": "No module named 'tensorflow'",
     "output_type": "error",
     "traceback": [
      "\u001b[1;31m---------------------------------------------------------------------------\u001b[0m",
      "\u001b[1;31mModuleNotFoundError\u001b[0m                       Traceback (most recent call last)",
      "\u001b[1;32m<ipython-input-6-f597087e8968>\u001b[0m in \u001b[0;36m<module>\u001b[1;34m\u001b[0m\n\u001b[1;32m----> 1\u001b[1;33m \u001b[1;32mimport\u001b[0m \u001b[0mtensorflow\u001b[0m\u001b[1;33m.\u001b[0m\u001b[0mkeras\u001b[0m\u001b[1;33m.\u001b[0m\u001b[0mdatasets\u001b[0m \u001b[1;32mas\u001b[0m \u001b[0mkd\u001b[0m\u001b[1;33m\u001b[0m\u001b[1;33m\u001b[0m\u001b[0m\n\u001b[0m",
      "\u001b[1;31mModuleNotFoundError\u001b[0m: No module named 'tensorflow'"
     ]
    }
   ],
   "source": [
    "import tensorflow.keras.datasets as kd"
   ]
  },
  {
   "cell_type": "code",
   "execution_count": null,
   "id": "4f399025-158d-456b-9eb2-670866ccdffb",
   "metadata": {},
   "outputs": [],
   "source": [
    "data = kd.fashiob_mnist.load_data()"
   ]
  },
  {
   "cell_type": "code",
   "execution_count": null,
   "id": "5f64ed1d-1b22-486a-a627-e522b213e0bc",
   "metadata": {},
   "outputs": [],
   "source": [
    "(xtrain,ytrain),(xtest,ytest)=data"
   ]
  },
  {
   "cell_type": "code",
   "execution_count": null,
   "id": "f2f69c18-332a-4d0b-9c16-fb93b6de6b17",
   "metadata": {},
   "outputs": [],
   "source": [
    "xtrain.shape"
   ]
  },
  {
   "cell_type": "code",
   "execution_count": null,
   "id": "a4310929-5306-46a6-acf6-ede0dfee8b82",
   "metadata": {},
   "outputs": [],
   "source": [
    "import matplotlib.pyplot as plt"
   ]
  },
  {
   "cell_type": "code",
   "execution_count": null,
   "id": "8d9b9204-a564-4be0-b079-b4f3389d1485",
   "metadata": {},
   "outputs": [],
   "source": [
    "plt.imshow(xtrain[0,:,:],cmap='gray_r')"
   ]
  },
  {
   "cell_type": "code",
   "execution_count": null,
   "id": "95e5778b-d735-4169-b139-e6b3293c5ed1",
   "metadata": {},
   "outputs": [],
   "source": [
    "lab1= '''0 T-shirt/top\n",
    "1 Trouser\n",
    "2 pullover\n",
    "3 dress\n",
    "4 coat\n",
    "5 sandal\n",
    "6 shirt\n",
    "7 sneaker\n",
    "8 bag\n",
    "9 ankle-boot'''.split('\\n')\n",
    "labels = {int(i.split()[0]):i.split}"
   ]
  }
 ],
 "metadata": {
  "kernelspec": {
   "display_name": "Python 3",
   "language": "python",
   "name": "python3"
  },
  "language_info": {
   "codemirror_mode": {
    "name": "ipython",
    "version": 3
   },
   "file_extension": ".py",
   "mimetype": "text/x-python",
   "name": "python",
   "nbconvert_exporter": "python",
   "pygments_lexer": "ipython3",
   "version": "3.8.8"
  }
 },
 "nbformat": 4,
 "nbformat_minor": 5
}
